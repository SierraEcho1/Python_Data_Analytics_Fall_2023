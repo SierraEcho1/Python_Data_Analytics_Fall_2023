{
 "cells": [
  {
   "cell_type": "code",
   "execution_count": 1,
   "id": "aee9703a",
   "metadata": {},
   "outputs": [
    {
     "name": "stdout",
     "output_type": "stream",
     "text": [
      "['apple', 'orange', 'banana', 'grape']\n",
      "orange\n"
     ]
    }
   ],
   "source": [
    "mylist = ['apple', 'orange', 'banana', 'grape']\n",
    "print (mylist)\n",
    "\n",
    "mylist = ['apple', 'orange', 'banana', 'grape']\n",
    "print (mylist[1])"
   ]
  },
  {
   "cell_type": "code",
   "execution_count": 2,
   "id": "e9333350",
   "metadata": {},
   "outputs": [
    {
     "data": {
      "text/plain": [
       "'phython'"
      ]
     },
     "execution_count": 2,
     "metadata": {},
     "output_type": "execute_result"
    }
   ],
   "source": [
    "course = 'phython'\n",
    "course\n"
   ]
  },
  {
   "cell_type": "code",
   "execution_count": 3,
   "id": "a431c795",
   "metadata": {},
   "outputs": [
    {
     "data": {
      "text/plain": [
       "'SQL'"
      ]
     },
     "execution_count": 3,
     "metadata": {},
     "output_type": "execute_result"
    }
   ],
   "source": [
    "course = 'SQL'\n",
    "course"
   ]
  },
  {
   "cell_type": "code",
   "execution_count": 5,
   "id": "0685470e",
   "metadata": {},
   "outputs": [
    {
     "name": "stdout",
     "output_type": "stream",
     "text": [
      "cats\n",
      "dogs\n",
      "pigs\n"
     ]
    }
   ],
   "source": [
    "\n",
    "animals=['cats', 'dogs', 'pigs']\n",
    "for x in animals:\n",
    "    print (x)"
   ]
  },
  {
   "cell_type": "code",
   "execution_count": 6,
   "id": "2fa5f33b",
   "metadata": {},
   "outputs": [
    {
     "data": {
      "text/plain": [
       "'pigs'"
      ]
     },
     "execution_count": 6,
     "metadata": {},
     "output_type": "execute_result"
    }
   ],
   "source": [
    "x"
   ]
  },
  {
   "cell_type": "code",
   "execution_count": 7,
   "id": "dc12f441",
   "metadata": {},
   "outputs": [
    {
     "name": "stdout",
     "output_type": "stream",
     "text": [
      "1\n",
      "2\n",
      "3\n",
      "4\n",
      "5\n"
     ]
    }
   ],
   "source": [
    "for x in range (1,6):\n",
    "  print (x)"
   ]
  },
  {
   "cell_type": "code",
   "execution_count": 8,
   "id": "baccbcc1",
   "metadata": {},
   "outputs": [
    {
     "name": "stdout",
     "output_type": "stream",
     "text": [
      "1\n",
      "2\n",
      "3\n",
      "4\n",
      "5\n"
     ]
    }
   ],
   "source": [
    "number = 1\n",
    "while number <= 5:\n",
    "  print(number)\n",
    "  number += 1"
   ]
  },
  {
   "cell_type": "code",
   "execution_count": 9,
   "id": "2e804f11",
   "metadata": {},
   "outputs": [
    {
     "data": {
      "text/plain": [
       "6"
      ]
     },
     "execution_count": 9,
     "metadata": {},
     "output_type": "execute_result"
    }
   ],
   "source": [
    "number"
   ]
  },
  {
   "cell_type": "code",
   "execution_count": 10,
   "id": "3fed3a75",
   "metadata": {},
   "outputs": [
    {
     "name": "stdout",
     "output_type": "stream",
     "text": [
      "Input a message. I will repeat until you type quit. stop\n",
      "stop\n",
      "Input a message. I will repeat until you type quit. no\n",
      "no\n",
      "Input a message. I will repeat until you type quit. yes\n",
      "yes\n",
      "Input a message. I will repeat until you type quit. Philly\n",
      "Philly\n",
      "Input a message. I will repeat until you type quit. I hate this!\n",
      "I hate this!\n",
      "Input a message. I will repeat until you type quit. quite\n",
      "quite\n",
      "Input a message. I will repeat until you type quit. quit\n",
      "quit\n"
     ]
    }
   ],
   "source": [
    "prompt = \"Input a message. I will repeat until you type quit. \"\n",
    "message = \"\"\n",
    "\n",
    "while message!= 'quit':\n",
    "  message = input(prompt)\n",
    "  print(message)"
   ]
  },
  {
   "cell_type": "code",
   "execution_count": 11,
   "id": "f13a2f79",
   "metadata": {},
   "outputs": [
    {
     "name": "stdout",
     "output_type": "stream",
     "text": [
      "Input a message. I will repeat until you type quit. candy\n",
      "candy\n",
      "Input a message. I will repeat until you type quit. soda\n",
      "soda\n",
      "Input a message. I will repeat until you type quit. bed\n",
      "bed\n",
      "Input a message. I will repeat until you type quit. quit\n"
     ]
    }
   ],
   "source": [
    "prompt = \"Input a message. I will repeat until you type quit. \"\n",
    "message =\"\"\n",
    "\n",
    "active= True\n",
    "while active:\n",
    "  message = input(prompt)\n",
    "\n",
    "  if message ==\"quit\":\n",
    "     active = False\n",
    "\n",
    "  else:\n",
    "    print(message)\n"
   ]
  },
  {
   "cell_type": "code",
   "execution_count": null,
   "id": "d2262e24",
   "metadata": {},
   "outputs": [],
   "source": []
  }
 ],
 "metadata": {
  "kernelspec": {
   "display_name": "Python 3 (ipykernel)",
   "language": "python",
   "name": "python3"
  },
  "language_info": {
   "codemirror_mode": {
    "name": "ipython",
    "version": 3
   },
   "file_extension": ".py",
   "mimetype": "text/x-python",
   "name": "python",
   "nbconvert_exporter": "python",
   "pygments_lexer": "ipython3",
   "version": "3.11.5"
  }
 },
 "nbformat": 4,
 "nbformat_minor": 5
}
