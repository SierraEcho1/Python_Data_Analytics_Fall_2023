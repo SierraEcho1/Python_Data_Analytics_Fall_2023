{
 "cells": [
  {
   "cell_type": "code",
   "execution_count": 1,
   "id": "0c9b61af",
   "metadata": {},
   "outputs": [],
   "source": [
    "#NYPD Arrest Data (Year to Date) Project 3"
   ]
  },
  {
   "cell_type": "markdown",
   "id": "afa3c90d",
   "metadata": {},
   "source": [
    "# NYPD 2023 Arrest Data - Elissa Selmore "
   ]
  },
  {
   "cell_type": "markdown",
   "id": "27cc591b",
   "metadata": {},
   "source": [
    "Is it true that certain communities are policed at significantly higher rates than others? This is a complex question that requires careful analysis of data. To be able to provide an answer to this problematic question, we should look at relevant NYPD arrest data for 2023 (January 1, 2023, to November 30, 2023).\n",
    "This dataset shows a breakdown of arrests by age, sex, race, borough, precinct, and offense category. In this analysis, we will review which populations and boroughs have the highest arrest rates; What class offense perpetrators are most often arrested for and for what types of crimes. Is there bias in this data and what is the root of the bias?\n"
   ]
  },
  {
   "cell_type": "code",
   "execution_count": 2,
   "id": "efe72347",
   "metadata": {},
   "outputs": [],
   "source": [
    "#Imported dataset by saving document to C drive intially.Script executed successfully. \n",
    "#Then output stopped working so I uploaded the dataset via Python. Still not getting any output on code. \n",
    "#Have attempted to troubleshoot a number of times and cannot find a solution.\n",
    "import pandas as pd\n",
    "\n",
    "df = pd.read_csv('NYPD_Arrest_Data__Year_to_Date__20231225.csv')"
   ]
  },
  {
   "cell_type": "code",
   "execution_count": 3,
   "id": "fb0a7b5f",
   "metadata": {},
   "outputs": [],
   "source": [
    "import matplotlib.pyplot as plt\n",
    "%matplotlib inline\n",
    "\n",
    "import numpy as np\n",
    "import matplotlib as mpl\n",
    "\n",
    "import seaborn as sns"
   ]
  },
  {
   "cell_type": "code",
   "execution_count": 4,
   "id": "de1095d8",
   "metadata": {},
   "outputs": [
    {
     "data": {
      "text/plain": [
       "(170095, 19)"
      ]
     },
     "execution_count": 4,
     "metadata": {},
     "output_type": "execute_result"
    }
   ],
   "source": [
    "df.shape"
   ]
  },
  {
   "cell_type": "code",
   "execution_count": 5,
   "id": "09c547f1",
   "metadata": {},
   "outputs": [],
   "source": [
    "#No output - is dataset too large????\n",
    "#df.mean()"
   ]
  },
  {
   "cell_type": "code",
   "execution_count": 6,
   "id": "6375c405",
   "metadata": {},
   "outputs": [
    {
     "data": {
      "text/html": [
       "<div>\n",
       "<style scoped>\n",
       "    .dataframe tbody tr th:only-of-type {\n",
       "        vertical-align: middle;\n",
       "    }\n",
       "\n",
       "    .dataframe tbody tr th {\n",
       "        vertical-align: top;\n",
       "    }\n",
       "\n",
       "    .dataframe thead th {\n",
       "        text-align: right;\n",
       "    }\n",
       "</style>\n",
       "<table border=\"1\" class=\"dataframe\">\n",
       "  <thead>\n",
       "    <tr style=\"text-align: right;\">\n",
       "      <th></th>\n",
       "      <th>ARREST_KEY</th>\n",
       "      <th>ARREST_DATE</th>\n",
       "      <th>PD_CD</th>\n",
       "      <th>PD_DESC</th>\n",
       "      <th>KY_CD</th>\n",
       "      <th>OFNS_DESC</th>\n",
       "      <th>LAW_CODE</th>\n",
       "      <th>LAW_CAT_CD</th>\n",
       "      <th>ARREST_BORO</th>\n",
       "      <th>ARREST_PRECINCT</th>\n",
       "      <th>JURISDICTION_CODE</th>\n",
       "      <th>AGE_GROUP</th>\n",
       "      <th>PERP_SEX</th>\n",
       "      <th>PERP_RACE</th>\n",
       "      <th>X_COORD_CD</th>\n",
       "      <th>Y_COORD_CD</th>\n",
       "      <th>Latitude</th>\n",
       "      <th>Longitude</th>\n",
       "      <th>New Georeferenced Column</th>\n",
       "    </tr>\n",
       "  </thead>\n",
       "  <tbody>\n",
       "    <tr>\n",
       "      <th>0</th>\n",
       "      <td>261209118</td>\n",
       "      <td>01/01/2023</td>\n",
       "      <td>109</td>\n",
       "      <td>ASSAULT 2,1,UNCLASSIFIED</td>\n",
       "      <td>106.0</td>\n",
       "      <td>FELONY ASSAULT</td>\n",
       "      <td>PL 1200501</td>\n",
       "      <td>F</td>\n",
       "      <td>K</td>\n",
       "      <td>77</td>\n",
       "      <td>0</td>\n",
       "      <td>45-64</td>\n",
       "      <td>F</td>\n",
       "      <td>BLACK</td>\n",
       "      <td>999335</td>\n",
       "      <td>186085</td>\n",
       "      <td>40.677426</td>\n",
       "      <td>-73.945615</td>\n",
       "      <td>POINT (-73.945615 40.677426)</td>\n",
       "    </tr>\n",
       "    <tr>\n",
       "      <th>1</th>\n",
       "      <td>262984267</td>\n",
       "      <td>02/03/2023</td>\n",
       "      <td>515</td>\n",
       "      <td>CONTROLLED SUBSTANCE,SALE 3</td>\n",
       "      <td>117.0</td>\n",
       "      <td>DANGEROUS DRUGS</td>\n",
       "      <td>PL 2203901</td>\n",
       "      <td>F</td>\n",
       "      <td>K</td>\n",
       "      <td>73</td>\n",
       "      <td>0</td>\n",
       "      <td>25-44</td>\n",
       "      <td>M</td>\n",
       "      <td>BLACK</td>\n",
       "      <td>1009318</td>\n",
       "      <td>178259</td>\n",
       "      <td>40.655923</td>\n",
       "      <td>-73.909650</td>\n",
       "      <td>POINT (-73.90965 40.655923)</td>\n",
       "    </tr>\n",
       "    <tr>\n",
       "      <th>2</th>\n",
       "      <td>263664549</td>\n",
       "      <td>02/15/2023</td>\n",
       "      <td>105</td>\n",
       "      <td>STRANGULATION 1ST</td>\n",
       "      <td>106.0</td>\n",
       "      <td>FELONY ASSAULT</td>\n",
       "      <td>PL 1211200</td>\n",
       "      <td>F</td>\n",
       "      <td>K</td>\n",
       "      <td>62</td>\n",
       "      <td>0</td>\n",
       "      <td>25-44</td>\n",
       "      <td>M</td>\n",
       "      <td>WHITE</td>\n",
       "      <td>982272</td>\n",
       "      <td>158771</td>\n",
       "      <td>40.602468</td>\n",
       "      <td>-74.007120</td>\n",
       "      <td>POINT (-74.00712 40.602468)</td>\n",
       "    </tr>\n",
       "    <tr>\n",
       "      <th>3</th>\n",
       "      <td>261345231</td>\n",
       "      <td>01/04/2023</td>\n",
       "      <td>105</td>\n",
       "      <td>STRANGULATION 1ST</td>\n",
       "      <td>106.0</td>\n",
       "      <td>FELONY ASSAULT</td>\n",
       "      <td>PL 1211200</td>\n",
       "      <td>F</td>\n",
       "      <td>M</td>\n",
       "      <td>32</td>\n",
       "      <td>0</td>\n",
       "      <td>25-44</td>\n",
       "      <td>M</td>\n",
       "      <td>BLACK</td>\n",
       "      <td>999899</td>\n",
       "      <td>238684</td>\n",
       "      <td>40.821797</td>\n",
       "      <td>-73.943457</td>\n",
       "      <td>POINT (-73.943457 40.821797)</td>\n",
       "    </tr>\n",
       "    <tr>\n",
       "      <th>4</th>\n",
       "      <td>263536618</td>\n",
       "      <td>02/13/2023</td>\n",
       "      <td>109</td>\n",
       "      <td>ASSAULT 2,1,UNCLASSIFIED</td>\n",
       "      <td>106.0</td>\n",
       "      <td>FELONY ASSAULT</td>\n",
       "      <td>PL 12005WX</td>\n",
       "      <td>F</td>\n",
       "      <td>K</td>\n",
       "      <td>71</td>\n",
       "      <td>0</td>\n",
       "      <td>25-44</td>\n",
       "      <td>M</td>\n",
       "      <td>BLACK</td>\n",
       "      <td>1001437</td>\n",
       "      <td>183080</td>\n",
       "      <td>40.669175</td>\n",
       "      <td>-73.938042</td>\n",
       "      <td>POINT (-73.938042 40.669175)</td>\n",
       "    </tr>\n",
       "  </tbody>\n",
       "</table>\n",
       "</div>"
      ],
      "text/plain": [
       "   ARREST_KEY ARREST_DATE  PD_CD                      PD_DESC  KY_CD  \\\n",
       "0   261209118  01/01/2023    109     ASSAULT 2,1,UNCLASSIFIED  106.0   \n",
       "1   262984267  02/03/2023    515  CONTROLLED SUBSTANCE,SALE 3  117.0   \n",
       "2   263664549  02/15/2023    105            STRANGULATION 1ST  106.0   \n",
       "3   261345231  01/04/2023    105            STRANGULATION 1ST  106.0   \n",
       "4   263536618  02/13/2023    109     ASSAULT 2,1,UNCLASSIFIED  106.0   \n",
       "\n",
       "         OFNS_DESC    LAW_CODE LAW_CAT_CD ARREST_BORO  ARREST_PRECINCT  \\\n",
       "0   FELONY ASSAULT  PL 1200501          F           K               77   \n",
       "1  DANGEROUS DRUGS  PL 2203901          F           K               73   \n",
       "2   FELONY ASSAULT  PL 1211200          F           K               62   \n",
       "3   FELONY ASSAULT  PL 1211200          F           M               32   \n",
       "4   FELONY ASSAULT  PL 12005WX          F           K               71   \n",
       "\n",
       "   JURISDICTION_CODE AGE_GROUP PERP_SEX PERP_RACE  X_COORD_CD  Y_COORD_CD  \\\n",
       "0                  0     45-64        F     BLACK      999335      186085   \n",
       "1                  0     25-44        M     BLACK     1009318      178259   \n",
       "2                  0     25-44        M     WHITE      982272      158771   \n",
       "3                  0     25-44        M     BLACK      999899      238684   \n",
       "4                  0     25-44        M     BLACK     1001437      183080   \n",
       "\n",
       "    Latitude  Longitude      New Georeferenced Column  \n",
       "0  40.677426 -73.945615  POINT (-73.945615 40.677426)  \n",
       "1  40.655923 -73.909650   POINT (-73.90965 40.655923)  \n",
       "2  40.602468 -74.007120   POINT (-74.00712 40.602468)  \n",
       "3  40.821797 -73.943457  POINT (-73.943457 40.821797)  \n",
       "4  40.669175 -73.938042  POINT (-73.938042 40.669175)  "
      ]
     },
     "execution_count": 6,
     "metadata": {},
     "output_type": "execute_result"
    }
   ],
   "source": [
    "df.head()"
   ]
  },
  {
   "cell_type": "code",
   "execution_count": 7,
   "id": "af044587",
   "metadata": {},
   "outputs": [
    {
     "data": {
      "text/html": [
       "<div>\n",
       "<style scoped>\n",
       "    .dataframe tbody tr th:only-of-type {\n",
       "        vertical-align: middle;\n",
       "    }\n",
       "\n",
       "    .dataframe tbody tr th {\n",
       "        vertical-align: top;\n",
       "    }\n",
       "\n",
       "    .dataframe thead th {\n",
       "        text-align: right;\n",
       "    }\n",
       "</style>\n",
       "<table border=\"1\" class=\"dataframe\">\n",
       "  <thead>\n",
       "    <tr style=\"text-align: right;\">\n",
       "      <th></th>\n",
       "      <th>ARREST_KEY</th>\n",
       "      <th>ARREST_DATE</th>\n",
       "      <th>PD_CD</th>\n",
       "      <th>PD_DESC</th>\n",
       "      <th>KY_CD</th>\n",
       "      <th>OFNS_DESC</th>\n",
       "      <th>LAW_CODE</th>\n",
       "      <th>LAW_CAT_CD</th>\n",
       "      <th>ARREST_BORO</th>\n",
       "      <th>ARREST_PRECINCT</th>\n",
       "      <th>JURISDICTION_CODE</th>\n",
       "      <th>AGE_GROUP</th>\n",
       "      <th>PERP_SEX</th>\n",
       "      <th>PERP_RACE</th>\n",
       "      <th>X_COORD_CD</th>\n",
       "      <th>Y_COORD_CD</th>\n",
       "      <th>Latitude</th>\n",
       "      <th>Longitude</th>\n",
       "      <th>New Georeferenced Column</th>\n",
       "    </tr>\n",
       "  </thead>\n",
       "  <tbody>\n",
       "    <tr>\n",
       "      <th>170090</th>\n",
       "      <td>270955727</td>\n",
       "      <td>07/07/2023</td>\n",
       "      <td>397</td>\n",
       "      <td>ROBBERY,OPEN AREA UNCLASSIFIED</td>\n",
       "      <td>105.0</td>\n",
       "      <td>ROBBERY</td>\n",
       "      <td>PL 1601002</td>\n",
       "      <td>F</td>\n",
       "      <td>B</td>\n",
       "      <td>52</td>\n",
       "      <td>0</td>\n",
       "      <td>25-44</td>\n",
       "      <td>M</td>\n",
       "      <td>BLACK</td>\n",
       "      <td>1017273</td>\n",
       "      <td>255924</td>\n",
       "      <td>40.869067</td>\n",
       "      <td>-73.880600</td>\n",
       "      <td>POINT (-73.8806 40.869067)</td>\n",
       "    </tr>\n",
       "    <tr>\n",
       "      <th>170091</th>\n",
       "      <td>273117887</td>\n",
       "      <td>08/18/2023</td>\n",
       "      <td>681</td>\n",
       "      <td>CHILD, ENDANGERING WELFARE</td>\n",
       "      <td>233.0</td>\n",
       "      <td>SEX CRIMES</td>\n",
       "      <td>PL 2601001</td>\n",
       "      <td>M</td>\n",
       "      <td>B</td>\n",
       "      <td>47</td>\n",
       "      <td>0</td>\n",
       "      <td>25-44</td>\n",
       "      <td>F</td>\n",
       "      <td>BLACK</td>\n",
       "      <td>1026480</td>\n",
       "      <td>262584</td>\n",
       "      <td>40.887314</td>\n",
       "      <td>-73.847272</td>\n",
       "      <td>POINT (-73.8472717577564 40.8873136344706)</td>\n",
       "    </tr>\n",
       "    <tr>\n",
       "      <th>170092</th>\n",
       "      <td>274301006</td>\n",
       "      <td>09/13/2023</td>\n",
       "      <td>969</td>\n",
       "      <td>TRAFFIC,UNCLASSIFIED INFRACTIO</td>\n",
       "      <td>881.0</td>\n",
       "      <td>OTHER TRAFFIC INFRACTION</td>\n",
       "      <td>VTL051101A</td>\n",
       "      <td>M</td>\n",
       "      <td>S</td>\n",
       "      <td>122</td>\n",
       "      <td>0</td>\n",
       "      <td>25-44</td>\n",
       "      <td>M</td>\n",
       "      <td>WHITE HISPANIC</td>\n",
       "      <td>951857</td>\n",
       "      <td>161569</td>\n",
       "      <td>40.610087</td>\n",
       "      <td>-74.116666</td>\n",
       "      <td>POINT (-74.11666648991874 40.6100867091453)</td>\n",
       "    </tr>\n",
       "    <tr>\n",
       "      <th>170093</th>\n",
       "      <td>269912233</td>\n",
       "      <td>06/15/2023</td>\n",
       "      <td>490</td>\n",
       "      <td>STOLEN PROPERTY 3,POSSESSION</td>\n",
       "      <td>232.0</td>\n",
       "      <td>POSSESSION OF STOLEN PROPERTY</td>\n",
       "      <td>PL 1654000</td>\n",
       "      <td>M</td>\n",
       "      <td>K</td>\n",
       "      <td>62</td>\n",
       "      <td>0</td>\n",
       "      <td>25-44</td>\n",
       "      <td>M</td>\n",
       "      <td>BLACK</td>\n",
       "      <td>983469</td>\n",
       "      <td>157947</td>\n",
       "      <td>40.600204</td>\n",
       "      <td>-74.002812</td>\n",
       "      <td>POINT (-74.00281242 40.60020423)</td>\n",
       "    </tr>\n",
       "    <tr>\n",
       "      <th>170094</th>\n",
       "      <td>272045762</td>\n",
       "      <td>07/28/2023</td>\n",
       "      <td>729</td>\n",
       "      <td>FORGERY,ETC.,UNCLASSIFIED-FELO</td>\n",
       "      <td>113.0</td>\n",
       "      <td>FORGERY</td>\n",
       "      <td>PL 1702500</td>\n",
       "      <td>F</td>\n",
       "      <td>K</td>\n",
       "      <td>84</td>\n",
       "      <td>0</td>\n",
       "      <td>18-24</td>\n",
       "      <td>M</td>\n",
       "      <td>BLACK</td>\n",
       "      <td>988491</td>\n",
       "      <td>195163</td>\n",
       "      <td>40.702353</td>\n",
       "      <td>-73.984704</td>\n",
       "      <td>POINT (-73.98470449707197 40.70235306254946)</td>\n",
       "    </tr>\n",
       "  </tbody>\n",
       "</table>\n",
       "</div>"
      ],
      "text/plain": [
       "        ARREST_KEY ARREST_DATE  PD_CD                         PD_DESC  KY_CD  \\\n",
       "170090   270955727  07/07/2023    397  ROBBERY,OPEN AREA UNCLASSIFIED  105.0   \n",
       "170091   273117887  08/18/2023    681      CHILD, ENDANGERING WELFARE  233.0   \n",
       "170092   274301006  09/13/2023    969  TRAFFIC,UNCLASSIFIED INFRACTIO  881.0   \n",
       "170093   269912233  06/15/2023    490    STOLEN PROPERTY 3,POSSESSION  232.0   \n",
       "170094   272045762  07/28/2023    729  FORGERY,ETC.,UNCLASSIFIED-FELO  113.0   \n",
       "\n",
       "                            OFNS_DESC    LAW_CODE LAW_CAT_CD ARREST_BORO  \\\n",
       "170090                        ROBBERY  PL 1601002          F           B   \n",
       "170091                     SEX CRIMES  PL 2601001          M           B   \n",
       "170092       OTHER TRAFFIC INFRACTION  VTL051101A          M           S   \n",
       "170093  POSSESSION OF STOLEN PROPERTY  PL 1654000          M           K   \n",
       "170094                        FORGERY  PL 1702500          F           K   \n",
       "\n",
       "        ARREST_PRECINCT  JURISDICTION_CODE AGE_GROUP PERP_SEX       PERP_RACE  \\\n",
       "170090               52                  0     25-44        M           BLACK   \n",
       "170091               47                  0     25-44        F           BLACK   \n",
       "170092              122                  0     25-44        M  WHITE HISPANIC   \n",
       "170093               62                  0     25-44        M           BLACK   \n",
       "170094               84                  0     18-24        M           BLACK   \n",
       "\n",
       "        X_COORD_CD  Y_COORD_CD   Latitude  Longitude  \\\n",
       "170090     1017273      255924  40.869067 -73.880600   \n",
       "170091     1026480      262584  40.887314 -73.847272   \n",
       "170092      951857      161569  40.610087 -74.116666   \n",
       "170093      983469      157947  40.600204 -74.002812   \n",
       "170094      988491      195163  40.702353 -73.984704   \n",
       "\n",
       "                            New Georeferenced Column  \n",
       "170090                    POINT (-73.8806 40.869067)  \n",
       "170091    POINT (-73.8472717577564 40.8873136344706)  \n",
       "170092   POINT (-74.11666648991874 40.6100867091453)  \n",
       "170093              POINT (-74.00281242 40.60020423)  \n",
       "170094  POINT (-73.98470449707197 40.70235306254946)  "
      ]
     },
     "execution_count": 7,
     "metadata": {},
     "output_type": "execute_result"
    }
   ],
   "source": [
    "df.tail()"
   ]
  },
  {
   "cell_type": "code",
   "execution_count": 8,
   "id": "65b27428",
   "metadata": {},
   "outputs": [
    {
     "data": {
      "text/plain": [
       "Index(['ARREST_KEY', 'ARREST_DATE', 'PD_CD', 'PD_DESC', 'KY_CD', 'OFNS_DESC',\n",
       "       'LAW_CODE', 'LAW_CAT_CD', 'ARREST_BORO', 'ARREST_PRECINCT',\n",
       "       'JURISDICTION_CODE', 'AGE_GROUP', 'PERP_SEX', 'PERP_RACE', 'X_COORD_CD',\n",
       "       'Y_COORD_CD', 'Latitude', 'Longitude', 'New Georeferenced Column'],\n",
       "      dtype='object')"
      ]
     },
     "execution_count": 8,
     "metadata": {},
     "output_type": "execute_result"
    }
   ],
   "source": [
    "df.columns"
   ]
  },
  {
   "cell_type": "code",
   "execution_count": 9,
   "id": "cbd3b21a",
   "metadata": {},
   "outputs": [
    {
     "data": {
      "text/html": [
       "<div>\n",
       "<style scoped>\n",
       "    .dataframe tbody tr th:only-of-type {\n",
       "        vertical-align: middle;\n",
       "    }\n",
       "\n",
       "    .dataframe tbody tr th {\n",
       "        vertical-align: top;\n",
       "    }\n",
       "\n",
       "    .dataframe thead th {\n",
       "        text-align: right;\n",
       "    }\n",
       "</style>\n",
       "<table border=\"1\" class=\"dataframe\">\n",
       "  <thead>\n",
       "    <tr style=\"text-align: right;\">\n",
       "      <th></th>\n",
       "      <th>ARREST_KEY</th>\n",
       "      <th>PD_CD</th>\n",
       "      <th>KY_CD</th>\n",
       "      <th>ARREST_PRECINCT</th>\n",
       "      <th>JURISDICTION_CODE</th>\n",
       "      <th>X_COORD_CD</th>\n",
       "      <th>Y_COORD_CD</th>\n",
       "      <th>Latitude</th>\n",
       "      <th>Longitude</th>\n",
       "    </tr>\n",
       "  </thead>\n",
       "  <tbody>\n",
       "    <tr>\n",
       "      <th>count</th>\n",
       "      <td>1.700950e+05</td>\n",
       "      <td>170095.000000</td>\n",
       "      <td>170082.000000</td>\n",
       "      <td>170095.000000</td>\n",
       "      <td>170095.000000</td>\n",
       "      <td>1.700950e+05</td>\n",
       "      <td>170095.000000</td>\n",
       "      <td>170095.000000</td>\n",
       "      <td>170095.000000</td>\n",
       "    </tr>\n",
       "    <tr>\n",
       "      <th>mean</th>\n",
       "      <td>2.683705e+08</td>\n",
       "      <td>425.242200</td>\n",
       "      <td>249.766342</td>\n",
       "      <td>63.423569</td>\n",
       "      <td>0.945918</td>\n",
       "      <td>1.005863e+06</td>\n",
       "      <td>208326.176925</td>\n",
       "      <td>40.738196</td>\n",
       "      <td>-73.921525</td>\n",
       "    </tr>\n",
       "    <tr>\n",
       "      <th>std</th>\n",
       "      <td>4.027782e+06</td>\n",
       "      <td>275.312255</td>\n",
       "      <td>148.500439</td>\n",
       "      <td>34.596068</td>\n",
       "      <td>7.683909</td>\n",
       "      <td>2.152952e+04</td>\n",
       "      <td>29737.941320</td>\n",
       "      <td>0.128134</td>\n",
       "      <td>0.195134</td>\n",
       "    </tr>\n",
       "    <tr>\n",
       "      <th>min</th>\n",
       "      <td>2.611809e+08</td>\n",
       "      <td>2.000000</td>\n",
       "      <td>101.000000</td>\n",
       "      <td>1.000000</td>\n",
       "      <td>0.000000</td>\n",
       "      <td>0.000000e+00</td>\n",
       "      <td>0.000000</td>\n",
       "      <td>0.000000</td>\n",
       "      <td>-74.253187</td>\n",
       "    </tr>\n",
       "    <tr>\n",
       "      <th>25%</th>\n",
       "      <td>2.649555e+08</td>\n",
       "      <td>114.000000</td>\n",
       "      <td>113.000000</td>\n",
       "      <td>40.000000</td>\n",
       "      <td>0.000000</td>\n",
       "      <td>9.913600e+05</td>\n",
       "      <td>186065.000000</td>\n",
       "      <td>40.677251</td>\n",
       "      <td>-73.974365</td>\n",
       "    </tr>\n",
       "    <tr>\n",
       "      <th>50%</th>\n",
       "      <td>2.685036e+08</td>\n",
       "      <td>397.000000</td>\n",
       "      <td>236.000000</td>\n",
       "      <td>62.000000</td>\n",
       "      <td>0.000000</td>\n",
       "      <td>1.005511e+06</td>\n",
       "      <td>206851.000000</td>\n",
       "      <td>40.734434</td>\n",
       "      <td>-73.923234</td>\n",
       "    </tr>\n",
       "    <tr>\n",
       "      <th>75%</th>\n",
       "      <td>2.718261e+08</td>\n",
       "      <td>705.000000</td>\n",
       "      <td>344.000000</td>\n",
       "      <td>101.000000</td>\n",
       "      <td>0.000000</td>\n",
       "      <td>1.017933e+06</td>\n",
       "      <td>236175.000000</td>\n",
       "      <td>40.814867</td>\n",
       "      <td>-73.878333</td>\n",
       "    </tr>\n",
       "    <tr>\n",
       "      <th>max</th>\n",
       "      <td>2.752350e+08</td>\n",
       "      <td>997.000000</td>\n",
       "      <td>995.000000</td>\n",
       "      <td>123.000000</td>\n",
       "      <td>97.000000</td>\n",
       "      <td>1.067185e+06</td>\n",
       "      <td>271819.000000</td>\n",
       "      <td>40.912714</td>\n",
       "      <td>0.000000</td>\n",
       "    </tr>\n",
       "  </tbody>\n",
       "</table>\n",
       "</div>"
      ],
      "text/plain": [
       "         ARREST_KEY          PD_CD          KY_CD  ARREST_PRECINCT  \\\n",
       "count  1.700950e+05  170095.000000  170082.000000    170095.000000   \n",
       "mean   2.683705e+08     425.242200     249.766342        63.423569   \n",
       "std    4.027782e+06     275.312255     148.500439        34.596068   \n",
       "min    2.611809e+08       2.000000     101.000000         1.000000   \n",
       "25%    2.649555e+08     114.000000     113.000000        40.000000   \n",
       "50%    2.685036e+08     397.000000     236.000000        62.000000   \n",
       "75%    2.718261e+08     705.000000     344.000000       101.000000   \n",
       "max    2.752350e+08     997.000000     995.000000       123.000000   \n",
       "\n",
       "       JURISDICTION_CODE    X_COORD_CD     Y_COORD_CD       Latitude  \\\n",
       "count      170095.000000  1.700950e+05  170095.000000  170095.000000   \n",
       "mean            0.945918  1.005863e+06  208326.176925      40.738196   \n",
       "std             7.683909  2.152952e+04   29737.941320       0.128134   \n",
       "min             0.000000  0.000000e+00       0.000000       0.000000   \n",
       "25%             0.000000  9.913600e+05  186065.000000      40.677251   \n",
       "50%             0.000000  1.005511e+06  206851.000000      40.734434   \n",
       "75%             0.000000  1.017933e+06  236175.000000      40.814867   \n",
       "max            97.000000  1.067185e+06  271819.000000      40.912714   \n",
       "\n",
       "           Longitude  \n",
       "count  170095.000000  \n",
       "mean      -73.921525  \n",
       "std         0.195134  \n",
       "min       -74.253187  \n",
       "25%       -73.974365  \n",
       "50%       -73.923234  \n",
       "75%       -73.878333  \n",
       "max         0.000000  "
      ]
     },
     "execution_count": 9,
     "metadata": {},
     "output_type": "execute_result"
    }
   ],
   "source": [
    "#not relevant infon - does not make sense for dataset. Would be useful for crime average etc.\n",
    "df.describe()"
   ]
  },
  {
   "cell_type": "code",
   "execution_count": 10,
   "id": "aaea6239",
   "metadata": {},
   "outputs": [],
   "source": [
    "# I want to issolate some of the columns to better analysize the dataset.By doing this my goal is to determine what measure \n",
    "#to evaulate for this project. "
   ]
  },
  {
   "cell_type": "code",
   "execution_count": 11,
   "id": "8325a1d3",
   "metadata": {},
   "outputs": [
    {
     "data": {
      "text/plain": [
       "ARREST_PRECINCT\n",
       "14     5817\n",
       "75     5469\n",
       "44     5407\n",
       "40     5392\n",
       "103    4582\n",
       "       ... \n",
       "100     873\n",
       "123     773\n",
       "17      769\n",
       "111     659\n",
       "22       68\n",
       "Name: ARREST_KEY, Length: 77, dtype: int64"
      ]
     },
     "execution_count": 11,
     "metadata": {},
     "output_type": "execute_result"
    }
   ],
   "source": [
    "#Precinct No. 14,75,44,40,and 103 have the hightest number of arrests \n",
    "#These precincts account for 26,667 total arrests or 15.67% \n",
    "#Precinct 14 -Manhattan\n",
    "#Precinct 75 -Brooklyn\n",
    "#Precinct 44 -Bronx\n",
    "#Precinct 40 -Bronx\n",
    "#Precinct 103 -Queens\n",
    "#What group of people reside in these precincts? \n",
    "df.groupby(['ARREST_PRECINCT'])['ARREST_KEY'].count().sort_values(ascending=False)"
   ]
  },
  {
   "cell_type": "code",
   "execution_count": 12,
   "id": "f04246e0",
   "metadata": {},
   "outputs": [
    {
     "data": {
      "text/plain": [
       "<Axes: xlabel='PERP_SEX'>"
      ]
     },
     "execution_count": 12,
     "metadata": {},
     "output_type": "execute_result"
    },
    {
     "data": {
      "image/png": "[encoded data removed]",
      "text/plain": [
       "<Figure size 640x480 with 1 Axes>"
      ]
     },
     "metadata": {},
     "output_type": "display_data"
    }
   ],
   "source": [
    "#Number of arrests based on Perp's sex\n",
    "#Men account 80.8 % \n",
    "#Women account for 17% \n",
    "#Unidentified account for 2% \n",
    "df.groupby(['PERP_SEX'])['ARREST_KEY'].count().sort_values(ascending=False).plot.bar()"
   ]
  },
  {
   "cell_type": "code",
   "execution_count": 31,
   "id": "b0121d4b",
   "metadata": {},
   "outputs": [
    {
     "data": {
      "text/plain": [
       "OFNS_DESC\n",
       "ASSAULT 3 & RELATED OFFENSES      25200\n",
       "PETIT LARCENY                     18025\n",
       "FELONY ASSAULT                    16030\n",
       "DANGEROUS DRUGS                   11526\n",
       "MISCELLANEOUS PENAL LAW           11132\n",
       "VEHICLE AND TRAFFIC LAWS           9442\n",
       "CRIMINAL MISCHIEF & RELATED OF     8333\n",
       "ROBBERY                            8169\n",
       "GRAND LARCENY                      7901\n",
       "DANGEROUS WEAPONS                  7245\n",
       "OFFENSES AGAINST PUBLIC ADMINI     5148\n",
       "BURGLARY                           4753\n",
       "OTHER OFFENSES RELATED TO THEF     4123\n",
       "SEX CRIMES                         3901\n",
       "OFFENSES INVOLVING FRAUD           3846\n",
       "OFF. AGNST PUB ORD SENSBLTY &      3044\n",
       "POSSESSION OF STOLEN PROPERTY      2738\n",
       "FORGERY                            2591\n",
       "INTOXICATED & IMPAIRED DRIVING     1953\n",
       "OTHER TRAFFIC INFRACTION           1615\n",
       "Name: ARREST_KEY, dtype: int64"
      ]
     },
     "execution_count": 31,
     "metadata": {},
     "output_type": "execute_result"
    }
   ],
   "source": [
    "#Most common arrest offense is \"Third degree assult & related offenses\" and accounts for 14.8% of the total arrests. \n",
    "#Third degree assult may consist of Physical Injury (intent, reckless, criminal negligence; weapon) \n",
    "df.groupby(['OFNS_DESC'])['ARREST_KEY'].count().sort_values(ascending=False).head(20)\n"
   ]
  },
  {
   "cell_type": "code",
   "execution_count": 14,
   "id": "8e8eae85",
   "metadata": {},
   "outputs": [
    {
     "data": {
      "image/png": "[encoded data removed]",
      "text/plain": [
       "<Figure size 640x480 with 1 Axes>"
      ]
     },
     "metadata": {},
     "output_type": "display_data"
    }
   ],
   "source": [
    "#Percentage values differ from above line due to entire dataset being included. Below chart only accounts for top 5 offensives.\n",
    "\n",
    "values=[25200, 18025, 16030, 11526, 11132  ]\n",
    "labels=['ASSAULT 3 & RELATED OFFENSES', 'PETIT LARCENY', 'FELONY ASSAULT', 'DANGEROUS DRUGS', 'MISCELLANEOUS PENAL LAW']\n",
    "\n",
    "def func(pct, allvals):\n",
    "    absolute = int(np.round(pct/100.*np.sum(allvals)))\n",
    "    return f\"{pct:.1f}%\\n({absolute:d})\"\n",
    "\n",
    "plt.pie(values, labels=labels, autopct=lambda pct: func(pct, values))\n",
    "\n",
    "plt.show()"
   ]
  },
  {
   "cell_type": "code",
   "execution_count": 15,
   "id": "7d2128c9",
   "metadata": {},
   "outputs": [
    {
     "data": {
      "text/plain": [
       "ARREST_BORO\n",
       "K    46825\n",
       "B    39957\n",
       "M    39652\n",
       "Q    36246\n",
       "S     7415\n",
       "Name: ARREST_KEY, dtype: int64"
      ]
     },
     "execution_count": 15,
     "metadata": {},
     "output_type": "execute_result"
    }
   ],
   "source": [
    "#Borough by number of arrests\n",
    "#Brooklyn 27.5%\n",
    "#Bronx 23.4%\n",
    "#Manhattan 23.3%\n",
    "#Queens 21.3%\n",
    "#Staten Island 4.3%\n",
    "df.groupby(['ARREST_BORO'])['ARREST_KEY'].count().sort_values(ascending=False)"
   ]
  },
  {
   "cell_type": "code",
   "execution_count": 25,
   "id": "5182d681",
   "metadata": {},
   "outputs": [
    {
     "data": {
      "text/plain": [
       "(array([0, 1, 2, 3, 4]),\n",
       " [Text(0, 0, 'K'),\n",
       "  Text(1, 0, 'B'),\n",
       "  Text(2, 0, 'M'),\n",
       "  Text(3, 0, 'Q'),\n",
       "  Text(4, 0, 'S')])"
      ]
     },
     "execution_count": 25,
     "metadata": {},
     "output_type": "execute_result"
    },
    {
     "data": {
      "image/png": "[encoded data removed]",
      "text/plain": [
       "<Figure size 640x480 with 1 Axes>"
      ]
     },
     "metadata": {},
     "output_type": "display_data"
    }
   ],
   "source": [
    "#Bar graph showing arrests by borough. Brooklyn has the highest number of arrests.\n",
    "df.groupby(['ARREST_BORO'])['ARREST_KEY'].count().sort_values(ascending=False).plot(kind='bar') \n",
    "plt.xticks(rotation=0) #for lettering"
   ]
  },
  {
   "cell_type": "code",
   "execution_count": 17,
   "id": "77b090d1",
   "metadata": {},
   "outputs": [
    {
     "data": {
      "text/plain": [
       "PERP_RACE\n",
       "BLACK                             82041\n",
       "WHITE HISPANIC                    43081\n",
       "BLACK HISPANIC                    16501\n",
       "WHITE                             16373\n",
       "ASIAN / PACIFIC ISLANDER           9066\n",
       "UNKNOWN                            2481\n",
       "AMERICAN INDIAN/ALASKAN NATIVE      552\n",
       "Name: ARREST_KEY, dtype: int64"
      ]
     },
     "execution_count": 17,
     "metadata": {},
     "output_type": "execute_result"
    }
   ],
   "source": [
    "#Arrests by race \n",
    "#M&W definition (Race - one of the groups that humans are divided into based on physical traits regarded as common among people of shared ancestry) \n",
    "#Black males \n",
    "#Why is the hispanic group being separated? How is race identified - by the offender or the arresting officer?\n",
    "df.groupby(['PERP_RACE'])['ARREST_KEY'].count().sort_values(ascending=False)"
   ]
  },
  {
   "cell_type": "code",
   "execution_count": 28,
   "id": "088c90b9",
   "metadata": {},
   "outputs": [
    {
     "data": {
      "text/plain": [
       "<Axes: ylabel='PERP_RACE'>"
      ]
     },
     "execution_count": 28,
     "metadata": {},
     "output_type": "execute_result"
    },
    {
     "data": {
      "image/png": "[encoded data removed]",
      "text/plain": [
       "<Figure size 640x480 with 1 Axes>"
      ]
     },
     "metadata": {},
     "output_type": "display_data"
    }
   ],
   "source": [
    "df.groupby(['PERP_RACE'])['ARREST_KEY'].count().sort_values(ascending=False).plot.barh()"
   ]
  },
  {
   "cell_type": "code",
   "execution_count": 29,
   "id": "3a65a102",
   "metadata": {},
   "outputs": [
    {
     "data": {
      "text/plain": [
       "(array([0, 1, 2, 3, 4]),\n",
       " [Text(0, 0, '25-44'),\n",
       "  Text(1, 0, '45-64'),\n",
       "  Text(2, 0, '18-24'),\n",
       "  Text(3, 0, '<18'),\n",
       "  Text(4, 0, '65+')])"
      ]
     },
     "execution_count": 29,
     "metadata": {},
     "output_type": "execute_result"
    },
    {
     "data": {
      "image/png": "[encoded data removed]",
      "text/plain": [
       "<Figure size 640x480 with 1 Axes>"
      ]
     },
     "metadata": {},
     "output_type": "display_data"
    }
   ],
   "source": [
    "#The age group 25-44 accounts for 57.3% of the total arrests in NYC\n",
    "df.groupby(['AGE_GROUP'])['ARREST_KEY'].count().sort_values(ascending=False).plot.bar()\n",
    "plt.xticks(rotation=0)"
   ]
  },
  {
   "cell_type": "code",
   "execution_count": 20,
   "id": "1ffda2a0",
   "metadata": {},
   "outputs": [
    {
     "data": {
      "text/plain": [
       "<Axes: xlabel='LAW_CAT_CD'>"
      ]
     },
     "execution_count": 20,
     "metadata": {},
     "output_type": "execute_result"
    },
    {
     "data": {
      "image/png": "[encoded data removed]",
      "text/plain": [
       "<Figure size 640x480 with 1 Axes>"
      ]
     },
     "metadata": {},
     "output_type": "display_data"
    }
   ],
   "source": [
    "#Arrests by Law Category (criminal offense)\n",
    "#Misdemeanors total 54.8%\n",
    "#Felonies total 43.4%\n",
    "#Violations tatal 0.5%\n",
    "#Criminal offenses are classified into three categories - Felonies, Misdemeanors, and Infractions or Violations\n",
    "#Which borough has the most misdemeanor and felony arrests?\n",
    "df.groupby(['LAW_CAT_CD'])['ARREST_KEY'].count().sort_values(ascending=False).plot.line()"
   ]
  },
  {
   "cell_type": "code",
   "execution_count": 21,
   "id": "d973e4b7",
   "metadata": {},
   "outputs": [
    {
     "data": {
      "text/html": [
       "<div>\n",
       "<style scoped>\n",
       "    .dataframe tbody tr th:only-of-type {\n",
       "        vertical-align: middle;\n",
       "    }\n",
       "\n",
       "    .dataframe tbody tr th {\n",
       "        vertical-align: top;\n",
       "    }\n",
       "\n",
       "    .dataframe thead th {\n",
       "        text-align: right;\n",
       "    }\n",
       "</style>\n",
       "<table border=\"1\" class=\"dataframe\">\n",
       "  <thead>\n",
       "    <tr style=\"text-align: right;\">\n",
       "      <th></th>\n",
       "      <th>ARREST_PRECINCT</th>\n",
       "      <th>ARREST_DATE</th>\n",
       "      <th>PERP_RACE</th>\n",
       "      <th>PERP_SEX</th>\n",
       "      <th>AGE_GROUP</th>\n",
       "      <th>LAW_CAT_CD</th>\n",
       "      <th>PD_DESC</th>\n",
       "    </tr>\n",
       "  </thead>\n",
       "  <tbody>\n",
       "    <tr>\n",
       "      <th>0</th>\n",
       "      <td>77</td>\n",
       "      <td>01/01/2023</td>\n",
       "      <td>BLACK</td>\n",
       "      <td>F</td>\n",
       "      <td>45-64</td>\n",
       "      <td>F</td>\n",
       "      <td>ASSAULT 2,1,UNCLASSIFIED</td>\n",
       "    </tr>\n",
       "    <tr>\n",
       "      <th>1</th>\n",
       "      <td>73</td>\n",
       "      <td>02/03/2023</td>\n",
       "      <td>BLACK</td>\n",
       "      <td>M</td>\n",
       "      <td>25-44</td>\n",
       "      <td>F</td>\n",
       "      <td>CONTROLLED SUBSTANCE,SALE 3</td>\n",
       "    </tr>\n",
       "    <tr>\n",
       "      <th>2</th>\n",
       "      <td>62</td>\n",
       "      <td>02/15/2023</td>\n",
       "      <td>WHITE</td>\n",
       "      <td>M</td>\n",
       "      <td>25-44</td>\n",
       "      <td>F</td>\n",
       "      <td>STRANGULATION 1ST</td>\n",
       "    </tr>\n",
       "    <tr>\n",
       "      <th>3</th>\n",
       "      <td>32</td>\n",
       "      <td>01/04/2023</td>\n",
       "      <td>BLACK</td>\n",
       "      <td>M</td>\n",
       "      <td>25-44</td>\n",
       "      <td>F</td>\n",
       "      <td>STRANGULATION 1ST</td>\n",
       "    </tr>\n",
       "    <tr>\n",
       "      <th>4</th>\n",
       "      <td>71</td>\n",
       "      <td>02/13/2023</td>\n",
       "      <td>BLACK</td>\n",
       "      <td>M</td>\n",
       "      <td>25-44</td>\n",
       "      <td>F</td>\n",
       "      <td>ASSAULT 2,1,UNCLASSIFIED</td>\n",
       "    </tr>\n",
       "    <tr>\n",
       "      <th>...</th>\n",
       "      <td>...</td>\n",
       "      <td>...</td>\n",
       "      <td>...</td>\n",
       "      <td>...</td>\n",
       "      <td>...</td>\n",
       "      <td>...</td>\n",
       "      <td>...</td>\n",
       "    </tr>\n",
       "    <tr>\n",
       "      <th>170090</th>\n",
       "      <td>52</td>\n",
       "      <td>07/07/2023</td>\n",
       "      <td>BLACK</td>\n",
       "      <td>M</td>\n",
       "      <td>25-44</td>\n",
       "      <td>F</td>\n",
       "      <td>ROBBERY,OPEN AREA UNCLASSIFIED</td>\n",
       "    </tr>\n",
       "    <tr>\n",
       "      <th>170091</th>\n",
       "      <td>47</td>\n",
       "      <td>08/18/2023</td>\n",
       "      <td>BLACK</td>\n",
       "      <td>F</td>\n",
       "      <td>25-44</td>\n",
       "      <td>M</td>\n",
       "      <td>CHILD, ENDANGERING WELFARE</td>\n",
       "    </tr>\n",
       "    <tr>\n",
       "      <th>170092</th>\n",
       "      <td>122</td>\n",
       "      <td>09/13/2023</td>\n",
       "      <td>WHITE HISPANIC</td>\n",
       "      <td>M</td>\n",
       "      <td>25-44</td>\n",
       "      <td>M</td>\n",
       "      <td>TRAFFIC,UNCLASSIFIED INFRACTIO</td>\n",
       "    </tr>\n",
       "    <tr>\n",
       "      <th>170093</th>\n",
       "      <td>62</td>\n",
       "      <td>06/15/2023</td>\n",
       "      <td>BLACK</td>\n",
       "      <td>M</td>\n",
       "      <td>25-44</td>\n",
       "      <td>M</td>\n",
       "      <td>STOLEN PROPERTY 3,POSSESSION</td>\n",
       "    </tr>\n",
       "    <tr>\n",
       "      <th>170094</th>\n",
       "      <td>84</td>\n",
       "      <td>07/28/2023</td>\n",
       "      <td>BLACK</td>\n",
       "      <td>M</td>\n",
       "      <td>18-24</td>\n",
       "      <td>F</td>\n",
       "      <td>FORGERY,ETC.,UNCLASSIFIED-FELO</td>\n",
       "    </tr>\n",
       "  </tbody>\n",
       "</table>\n",
       "<p>170095 rows × 7 columns</p>\n",
       "</div>"
      ],
      "text/plain": [
       "        ARREST_PRECINCT ARREST_DATE       PERP_RACE PERP_SEX AGE_GROUP  \\\n",
       "0                    77  01/01/2023           BLACK        F     45-64   \n",
       "1                    73  02/03/2023           BLACK        M     25-44   \n",
       "2                    62  02/15/2023           WHITE        M     25-44   \n",
       "3                    32  01/04/2023           BLACK        M     25-44   \n",
       "4                    71  02/13/2023           BLACK        M     25-44   \n",
       "...                 ...         ...             ...      ...       ...   \n",
       "170090               52  07/07/2023           BLACK        M     25-44   \n",
       "170091               47  08/18/2023           BLACK        F     25-44   \n",
       "170092              122  09/13/2023  WHITE HISPANIC        M     25-44   \n",
       "170093               62  06/15/2023           BLACK        M     25-44   \n",
       "170094               84  07/28/2023           BLACK        M     18-24   \n",
       "\n",
       "       LAW_CAT_CD                         PD_DESC  \n",
       "0               F        ASSAULT 2,1,UNCLASSIFIED  \n",
       "1               F     CONTROLLED SUBSTANCE,SALE 3  \n",
       "2               F               STRANGULATION 1ST  \n",
       "3               F               STRANGULATION 1ST  \n",
       "4               F        ASSAULT 2,1,UNCLASSIFIED  \n",
       "...           ...                             ...  \n",
       "170090          F  ROBBERY,OPEN AREA UNCLASSIFIED  \n",
       "170091          M      CHILD, ENDANGERING WELFARE  \n",
       "170092          M  TRAFFIC,UNCLASSIFIED INFRACTIO  \n",
       "170093          M    STOLEN PROPERTY 3,POSSESSION  \n",
       "170094          F  FORGERY,ETC.,UNCLASSIFIED-FELO  \n",
       "\n",
       "[170095 rows x 7 columns]"
      ]
     },
     "execution_count": 21,
     "metadata": {},
     "output_type": "execute_result"
    }
   ],
   "source": [
    "#Subset of df dataset (all precincts)\n",
    "df2=df[['ARREST_PRECINCT','ARREST_DATE','PERP_RACE','PERP_SEX','AGE_GROUP','LAW_CAT_CD','PD_DESC']]\n",
    "df2"
   ]
  },
  {
   "cell_type": "code",
   "execution_count": 22,
   "id": "7a075f7a",
   "metadata": {},
   "outputs": [],
   "source": [
    "#Measure 'Princinct 14' against dataset\n",
    "#It was at this point my code stopped executing"
   ]
  },
  {
   "cell_type": "code",
   "execution_count": 23,
   "id": "bf69e7a2",
   "metadata": {},
   "outputs": [
    {
     "ename": "SyntaxError",
     "evalue": "invalid syntax. Perhaps you forgot a comma? (2801633288.py, line 2)",
     "output_type": "error",
     "traceback": [
      "\u001b[1;36m  Cell \u001b[1;32mIn[23], line 2\u001b[1;36m\u001b[0m\n\u001b[1;33m    df2[df2['ARREST_PRECINCT']'14']\u001b[0m\n\u001b[1;37m        ^\u001b[0m\n\u001b[1;31mSyntaxError\u001b[0m\u001b[1;31m:\u001b[0m invalid syntax. Perhaps you forgot a comma?\n"
     ]
    }
   ],
   "source": [
    "#Attempt to only view Precinct 14 data - not successful\n",
    "df2[df2['ARREST_PRECINCT']'14']\n"
   ]
  },
  {
   "cell_type": "code",
   "execution_count": null,
   "id": "3cf77804",
   "metadata": {},
   "outputs": [],
   "source": [
    "#loc method was not successful \n",
    "df2.loc[df2['ARREST_PRECINCT'] ==\"14\"]\n",
    "df2"
   ]
  },
  {
   "cell_type": "code",
   "execution_count": null,
   "id": "152436c6",
   "metadata": {},
   "outputs": [],
   "source": [
    "df2.query('ARREST_PRECINCT ==\"14\"')\n",
    "df2"
   ]
  },
  {
   "cell_type": "code",
   "execution_count": null,
   "id": "c09e83de",
   "metadata": {},
   "outputs": [],
   "source": [
    "#Visualizations or code that did not work or was unclear \n",
    "\n",
    "#sns.jointplot(x='ARREST_KEY', y='OFNS_DESC', data=df)\n",
    "#df.gro\n",
    "   \n",
    "    \n",
    "#Scatter\n",
    "   # x = np.random.randn(2000)\n",
    "   #y = np.random.randn(2000)\n",
    "   # plt.scatter(x, y)\n",
    "   # plt.title(\"Arrest by Borough\")\n",
    "   # plt.xlabel(\"ARREST_BORO\")\n",
    "   # plt.ylabel(\"ARREST_KEY\")\n",
    "   # plt.show()\n",
    "\n",
    "#df1=df[['JURISDICTION_CODE','AGE_GROUP']]\n",
    "#df1"
   ]
  },
  {
   "cell_type": "markdown",
   "id": "4a6fd5a1",
   "metadata": {},
   "source": [
    "According to the year to date NYPD Arrest Data there were 170,095 arrests made in New York City from January 1, 2023, to November 30, 2023.The borough with the most arrests is Brooklyn at 46,852; however precinct 14, located in Manhattan, has the most arrests by precinct at 5,817.The most common offense category was misdemeanors at 54.8% with Assult 3rd degree & related offenses taking the lead for arrest reason.The age group 25-44 accounted for more than half of the arrests at 57.3%. Black males were arrested at the highest rate in the dataset amoung all age groups. \n",
    "Questions not answered - Do the perputrators identify their racial group or is that done by the arresting officer? Are there more police in the areas where the arrests numbers are higher? \n",
    "\n"
   ]
  },
  {
   "cell_type": "code",
   "execution_count": null,
   "id": "387237b3",
   "metadata": {},
   "outputs": [],
   "source": []
  },
  {
   "cell_type": "code",
   "execution_count": null,
   "id": "faa45da9",
   "metadata": {},
   "outputs": [],
   "source": []
  },
  {
   "cell_type": "code",
   "execution_count": null,
   "id": "e1349ead",
   "metadata": {},
   "outputs": [],
   "source": []
  }
 ],
 "metadata": {
  "kernelspec": {
   "display_name": "Python 3 (ipykernel)",
   "language": "python",
   "name": "python3"
  },
  "language_info": {
   "codemirror_mode": {
    "name": "ipython",
    "version": 3
   },
   "file_extension": ".py",
   "mimetype": "text/x-python",
   "name": "python",
   "nbconvert_exporter": "python",
   "pygments_lexer": "ipython3",
   "version": "3.11.5"
  }
 },
 "nbformat": 4,
 "nbformat_minor": 5
}
